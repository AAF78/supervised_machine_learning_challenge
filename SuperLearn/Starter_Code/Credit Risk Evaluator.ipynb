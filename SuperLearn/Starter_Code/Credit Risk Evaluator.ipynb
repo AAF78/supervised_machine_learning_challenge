{
 "cells": [
  {
   "cell_type": "markdown",
   "metadata": {},
   "source": [
    "# Credit Risk Evaluator"
   ]
  },
  {
   "cell_type": "code",
   "execution_count": 1,
   "metadata": {},
   "outputs": [],
   "source": [
    "import numpy as np\n",
    "import pandas as pd\n",
    "from pathlib import Path\n",
    "from sklearn.model_selection import train_test_split\n",
    "from sklearn.preprocessing import StandardScaler\n",
    "from sklearn.metrics import classification_report"
   ]
  },
  {
   "cell_type": "markdown",
   "metadata": {},
   "source": [
    "## Retrieve the Data\n",
    "\n",
    "The data is located in the Challenge Files Folder:\n",
    "\n",
    "* `lending_data.csv`\n",
    "\n",
    "Import the data using Pandas. Display the resulting dataframe to confirm the import was successful."
   ]
  },
  {
   "cell_type": "code",
   "execution_count": 2,
   "metadata": {
    "scrolled": false
   },
   "outputs": [
    {
     "name": "stderr",
     "output_type": "stream",
     "text": [
      "C:\\Users\\msfte\\anaconda3\\envs\\PythonData\\lib\\site-packages\\IPython\\core\\interactiveshell.py:3186: DtypeWarning: Columns (0,1,2,3,4,5,6,7) have mixed types.Specify dtype option on import or set low_memory=False.\n",
      "  interactivity=interactivity, compiler=compiler, result=result)\n"
     ]
    },
    {
     "data": {
      "text/html": [
       "<div>\n",
       "<style scoped>\n",
       "    .dataframe tbody tr th:only-of-type {\n",
       "        vertical-align: middle;\n",
       "    }\n",
       "\n",
       "    .dataframe tbody tr th {\n",
       "        vertical-align: top;\n",
       "    }\n",
       "\n",
       "    .dataframe thead th {\n",
       "        text-align: right;\n",
       "    }\n",
       "</style>\n",
       "<table border=\"1\" class=\"dataframe\">\n",
       "  <thead>\n",
       "    <tr style=\"text-align: right;\">\n",
       "      <th></th>\n",
       "      <th>loan_size</th>\n",
       "      <th>interest_rate</th>\n",
       "      <th>borrower_income</th>\n",
       "      <th>debt_to_income</th>\n",
       "      <th>num_of_accounts</th>\n",
       "      <th>derogatory_marks</th>\n",
       "      <th>total_debt</th>\n",
       "      <th>loan_status</th>\n",
       "    </tr>\n",
       "  </thead>\n",
       "  <tbody>\n",
       "    <tr>\n",
       "      <th>1</th>\n",
       "      <td>10700.0</td>\n",
       "      <td>7.672000000000000</td>\n",
       "      <td>52800</td>\n",
       "      <td>0.4318181818181820</td>\n",
       "      <td>5</td>\n",
       "      <td>1</td>\n",
       "      <td>22800</td>\n",
       "      <td>0</td>\n",
       "    </tr>\n",
       "    <tr>\n",
       "      <th>2</th>\n",
       "      <td>8400.0</td>\n",
       "      <td>6.692</td>\n",
       "      <td>43600</td>\n",
       "      <td>0.3119266055045870</td>\n",
       "      <td>3</td>\n",
       "      <td>0</td>\n",
       "      <td>13600</td>\n",
       "      <td>0</td>\n",
       "    </tr>\n",
       "    <tr>\n",
       "      <th>3</th>\n",
       "      <td>9000.0</td>\n",
       "      <td>6.963000000000000</td>\n",
       "      <td>46100</td>\n",
       "      <td>0.3492407809110630</td>\n",
       "      <td>3</td>\n",
       "      <td>0</td>\n",
       "      <td>16100</td>\n",
       "      <td>0</td>\n",
       "    </tr>\n",
       "    <tr>\n",
       "      <th>4</th>\n",
       "      <td>10700.0</td>\n",
       "      <td>7.664</td>\n",
       "      <td>52700</td>\n",
       "      <td>0.4307400379506640</td>\n",
       "      <td>5</td>\n",
       "      <td>1</td>\n",
       "      <td>22700</td>\n",
       "      <td>0</td>\n",
       "    </tr>\n",
       "    <tr>\n",
       "      <th>5</th>\n",
       "      <td>10800.0</td>\n",
       "      <td>7.6980000000000000</td>\n",
       "      <td>53000</td>\n",
       "      <td>0.4339622641509430</td>\n",
       "      <td>5</td>\n",
       "      <td>1</td>\n",
       "      <td>23000</td>\n",
       "      <td>0</td>\n",
       "    </tr>\n",
       "  </tbody>\n",
       "</table>\n",
       "</div>"
      ],
      "text/plain": [
       "  loan_size       interest_rate borrower_income      debt_to_income  \\\n",
       "1   10700.0   7.672000000000000           52800  0.4318181818181820   \n",
       "2    8400.0               6.692           43600  0.3119266055045870   \n",
       "3    9000.0   6.963000000000000           46100  0.3492407809110630   \n",
       "4   10700.0               7.664           52700  0.4307400379506640   \n",
       "5   10800.0  7.6980000000000000           53000  0.4339622641509430   \n",
       "\n",
       "  num_of_accounts derogatory_marks total_debt loan_status  \n",
       "1               5                1      22800           0  \n",
       "2               3                0      13600           0  \n",
       "3               3                0      16100           0  \n",
       "4               5                1      22700           0  \n",
       "5               5                1      23000           0  "
      ]
     },
     "execution_count": 2,
     "metadata": {},
     "output_type": "execute_result"
    }
   ],
   "source": [
    "# Import the data\n",
    "columns = [\n",
    "    \n",
    "    'loan_size',\n",
    "    'interest_rate',\n",
    "    'borrower_income',\n",
    "    'debt_to_income',\n",
    "    'num_of_accounts',\n",
    "    'derogatory_marks',\n",
    "    'total_debt',\n",
    "    'loan_status'\n",
    "]\n",
    "\n",
    "df = pd.read_csv('Resources/lending_data.csv', header=None, names = columns, index_col=False)\n",
    "df1 = df.tail(-1)\n",
    "\n",
    "df1.head()"
   ]
  },
  {
   "cell_type": "code",
   "execution_count": 3,
   "metadata": {
    "scrolled": true
   },
   "outputs": [
    {
     "data": {
      "text/plain": [
       "dtype('O')"
      ]
     },
     "execution_count": 3,
     "metadata": {},
     "output_type": "execute_result"
    }
   ],
   "source": [
    "df1.loan_size.dtype"
   ]
  },
  {
   "cell_type": "code",
   "execution_count": 4,
   "metadata": {
    "scrolled": true
   },
   "outputs": [
    {
     "data": {
      "text/plain": [
       "loan_size           0\n",
       "interest_rate       0\n",
       "borrower_income     0\n",
       "debt_to_income      0\n",
       "num_of_accounts     0\n",
       "derogatory_marks    0\n",
       "total_debt          0\n",
       "loan_status         0\n",
       "dtype: int64"
      ]
     },
     "execution_count": 4,
     "metadata": {},
     "output_type": "execute_result"
    }
   ],
   "source": [
    "df1.isnull().sum()"
   ]
  },
  {
   "cell_type": "code",
   "execution_count": 5,
   "metadata": {
    "scrolled": true
   },
   "outputs": [
    {
     "data": {
      "text/plain": [
       "array(['10700.0', '8400.0', '9000.0', '10800.0', '10100.0', '10300.0',\n",
       "       '8800.0', '9300.0', '9700.0', '9200.0', '9400.0', '8900.0',\n",
       "       '8300.0', '8000.0', '10200.0', '5200.0', '7300.0', '8700.0',\n",
       "       '7900.0', '7100.0', '9600.0', '10000.0', '10400.0', '9800.0',\n",
       "       '9100.0', '8100.0', '7200.0', '11700.0', '10600.0', '8500.0',\n",
       "       '11100.0', '8200.0', '11200.0', '8600.0', '9900.0', '7400.0',\n",
       "       '10500.0', '7800.0', '12400.0', '7500.0', '7000.0', '10900.0',\n",
       "       '9500.0', '12800.0', '11600.0', '7600.0', '11000.0', '7700.0',\n",
       "       '12100.0', '6300.0', '11400.0', '11900.0', '18800.0', '6900.0',\n",
       "       '11300.0', '6800.0', '12000.0', '6600.0', '17000.0', '11500.0',\n",
       "       '20000.0', '6700.0', '13200.0', '11800.0', '13500.0', '20800.0',\n",
       "       '12300.0', '19300.0', '6500.0', '12900.0', '19600.0', '20200.0',\n",
       "       '12700.0', '6100.0', '13100.0', '20500.0', '23800.0', '18900.0',\n",
       "       '5700.0', '17800.0', '6400.0', '5900.0', '12200.0', '12500.0',\n",
       "       '19200.0', '18300.0', '19100.0', '5800.0', '13000.0', '21000.0',\n",
       "       '12600.0', '6200.0', '14100.0', '21500.0', '19800.0', '17300.0',\n",
       "       '15000.0', '15900.0', '20900.0', '5000.0', '13600.0', '18100.0',\n",
       "       '6000.0', '20100.0', '16500.0', '16800.0', '18700.0', '19400.0',\n",
       "       '5600.0', '17400.0', '20700.0', '18500.0', '16200.0', '5400.0',\n",
       "       '19900.0', '21700.0', '17900.0', '18000.0', '16600.0', '13300.0',\n",
       "       '17700.0', '20400.0', '21400.0', '19500.0', '19000.0', '17600.0',\n",
       "       '18200.0', '18400.0', '13900.0', '16900.0', '22100.0', '18600.0',\n",
       "       '17500.0', '17200.0', '16000.0', '5300.0', '5500.0', '14600.0',\n",
       "       '13400.0', '13800.0', '16700.0', '14900.0', '16100.0', '16300.0',\n",
       "       '21100.0', '20300.0', '14400.0', '16400.0', '22500.0', '19700.0',\n",
       "       '21300.0', '15800.0', '20600.0', '15600.0', '15500.0', '15400.0',\n",
       "       '5100.0', '17100.0', '13700.0', 7700.0, 9700.0, 9200.0, 10700.0,\n",
       "       10300.0, 9600.0, 10200.0, 10500.0, 9000.0, 10100.0, 9400.0,\n",
       "       10600.0, 8400.0, 10800.0, 10000.0, 9300.0, 12300.0, 9500.0,\n",
       "       10900.0, 8100.0, 9800.0, 11000.0, 8800.0, 10400.0, 8200.0, 9100.0,\n",
       "       8900.0, 11200.0, 7800.0, 8000.0, 11600.0, 7200.0, 7500.0, 8500.0,\n",
       "       7400.0, 12000.0, 9900.0, 8700.0, 6700.0, 7600.0, 8600.0, 11500.0,\n",
       "       15900.0, 11800.0, 8300.0, 11400.0, 13100.0, 11100.0, 6900.0,\n",
       "       6400.0, 12900.0, 7100.0, 7900.0, 12200.0, 6800.0, 6500.0, 11300.0,\n",
       "       16800.0, 18000.0, 18100.0, 11700.0, 12500.0, 19600.0, 6300.0,\n",
       "       12100.0, 13900.0, 13200.0, 18400.0, 7300.0, 11900.0, 5500.0,\n",
       "       20800.0, 6600.0, 12400.0, 13000.0, 6200.0, 19400.0, 7000.0,\n",
       "       13400.0, 19800.0, 18900.0, 17200.0, 6100.0, 19000.0, 12700.0,\n",
       "       17100.0, 16900.0, 16700.0, 12600.0, 15100.0, 18200.0, 14400.0,\n",
       "       17600.0, 18700.0, 18500.0, 17800.0, 17700.0, 17900.0, 20000.0,\n",
       "       16300.0, 17000.0, 21600.0, 18800.0, 14300.0, 20100.0, 13500.0,\n",
       "       19500.0, 20200.0, 6000.0, 18300.0, 21800.0, 18600.0, 16600.0,\n",
       "       12800.0, 19300.0, 19200.0, 21500.0, 5900.0, 5700.0, 13300.0,\n",
       "       17500.0, 20300.0, 20700.0, 16000.0, 20400.0, 17300.0, 19900.0,\n",
       "       15800.0, 15000.0, 15700.0, 16200.0, 19100.0, 21100.0, 16100.0,\n",
       "       21200.0, 17400.0, 15400.0, 19700.0, 21900.0, 22200.0, 20600.0,\n",
       "       15300.0, 16400.0, 16500.0, 21400.0, 14900.0, 15200.0, 20900.0,\n",
       "       20500.0, 21700.0, 15500.0, 21000.0, 21300.0, 23100.0, 22000.0,\n",
       "       22800.0, 14600.0, 22400.0, 22500.0, 15600.0, 14000.0, 22900.0,\n",
       "       22100.0, 22300.0, 14800.0, 14500.0, 14200.0, 14700.0, 14100.0,\n",
       "       23500.0, 23400.0], dtype=object)"
      ]
     },
     "execution_count": 5,
     "metadata": {},
     "output_type": "execute_result"
    }
   ],
   "source": [
    "df1.loan_size.unique() "
   ]
  },
  {
   "cell_type": "code",
   "execution_count": 6,
   "metadata": {},
   "outputs": [
    {
     "data": {
      "text/html": [
       "<div>\n",
       "<style scoped>\n",
       "    .dataframe tbody tr th:only-of-type {\n",
       "        vertical-align: middle;\n",
       "    }\n",
       "\n",
       "    .dataframe tbody tr th {\n",
       "        vertical-align: top;\n",
       "    }\n",
       "\n",
       "    .dataframe thead th {\n",
       "        text-align: right;\n",
       "    }\n",
       "</style>\n",
       "<table border=\"1\" class=\"dataframe\">\n",
       "  <thead>\n",
       "    <tr style=\"text-align: right;\">\n",
       "      <th></th>\n",
       "      <th>loan_size</th>\n",
       "      <th>interest_rate</th>\n",
       "      <th>borrower_income</th>\n",
       "      <th>debt_to_income</th>\n",
       "      <th>num_of_accounts</th>\n",
       "      <th>derogatory_marks</th>\n",
       "      <th>total_debt</th>\n",
       "      <th>loan_status</th>\n",
       "    </tr>\n",
       "  </thead>\n",
       "  <tbody>\n",
       "  </tbody>\n",
       "</table>\n",
       "</div>"
      ],
      "text/plain": [
       "Empty DataFrame\n",
       "Columns: [loan_size, interest_rate, borrower_income, debt_to_income, num_of_accounts, derogatory_marks, total_debt, loan_status]\n",
       "Index: []"
      ]
     },
     "execution_count": 6,
     "metadata": {},
     "output_type": "execute_result"
    }
   ],
   "source": [
    "df1[df1.loan_size ==\"loan_size\"]"
   ]
  },
  {
   "cell_type": "code",
   "execution_count": 7,
   "metadata": {
    "scrolled": true
   },
   "outputs": [
    {
     "name": "stderr",
     "output_type": "stream",
     "text": [
      "C:\\Users\\msfte\\anaconda3\\envs\\PythonData\\lib\\site-packages\\pandas\\core\\generic.py:5303: SettingWithCopyWarning: \n",
      "A value is trying to be set on a copy of a slice from a DataFrame.\n",
      "Try using .loc[row_indexer,col_indexer] = value instead\n",
      "\n",
      "See the caveats in the documentation: https://pandas.pydata.org/pandas-docs/stable/user_guide/indexing.html#returning-a-view-versus-a-copy\n",
      "  self[name] = value\n"
     ]
    }
   ],
   "source": [
    "df1.loan_size=df1.loan_size.astype('float')"
   ]
  },
  {
   "cell_type": "code",
   "execution_count": 8,
   "metadata": {},
   "outputs": [
    {
     "data": {
      "text/plain": [
       "array([10700.,  8400.,  9000., 10800., 10100., 10300.,  8800.,  9300.,\n",
       "        9700.,  9200.,  9400.,  8900.,  8300.,  8000., 10200.,  5200.,\n",
       "        7300.,  8700.,  7900.,  7100.,  9600., 10000., 10400.,  9800.,\n",
       "        9100.,  8100.,  7200., 11700., 10600.,  8500., 11100.,  8200.,\n",
       "       11200.,  8600.,  9900.,  7400., 10500.,  7800., 12400.,  7500.,\n",
       "        7000., 10900.,  9500., 12800., 11600.,  7600., 11000.,  7700.,\n",
       "       12100.,  6300., 11400., 11900., 18800.,  6900., 11300.,  6800.,\n",
       "       12000.,  6600., 17000., 11500., 20000.,  6700., 13200., 11800.,\n",
       "       13500., 20800., 12300., 19300.,  6500., 12900., 19600., 20200.,\n",
       "       12700.,  6100., 13100., 20500., 23800., 18900.,  5700., 17800.,\n",
       "        6400.,  5900., 12200., 12500., 19200., 18300., 19100.,  5800.,\n",
       "       13000., 21000., 12600.,  6200., 14100., 21500., 19800., 17300.,\n",
       "       15000., 15900., 20900.,  5000., 13600., 18100.,  6000., 20100.,\n",
       "       16500., 16800., 18700., 19400.,  5600., 17400., 20700., 18500.,\n",
       "       16200.,  5400., 19900., 21700., 17900., 18000., 16600., 13300.,\n",
       "       17700., 20400., 21400., 19500., 19000., 17600., 18200., 18400.,\n",
       "       13900., 16900., 22100., 18600., 17500., 17200., 16000.,  5300.,\n",
       "        5500., 14600., 13400., 13800., 16700., 14900., 16100., 16300.,\n",
       "       21100., 20300., 14400., 16400., 22500., 19700., 21300., 15800.,\n",
       "       20600., 15600., 15500., 15400.,  5100., 17100., 13700., 15100.,\n",
       "       21600., 14300., 21800., 15700., 21200., 21900., 22200., 15300.,\n",
       "       15200., 23100., 22000., 22800., 22400., 14000., 22900., 22300.,\n",
       "       14800., 14500., 14200., 14700., 23500., 23400.])"
      ]
     },
     "execution_count": 8,
     "metadata": {},
     "output_type": "execute_result"
    }
   ],
   "source": [
    "df1.loan_status=df1.loan_status.astype('float')\n",
    "df1.loan_size.unique() "
   ]
  },
  {
   "cell_type": "markdown",
   "metadata": {},
   "source": [
    "## Predict Model Performance\n",
    "\n",
    "You will be creating and comparing two models on this data: a Logistic Regression, and a Random Forests Classifier. Before you create, fit, and score the models, make a prediction as to which model you think will perform better. You do not need to be correct! \n",
    "\n",
    "Write down your prediction in the designated cells in your Jupyter Notebook, and provide justification for your educated guess."
   ]
  },
  {
   "cell_type": "markdown",
   "metadata": {},
   "source": [
    "* This is a moderately large dataset but fortunately doesn't have too many features; the Logistic Regression model may overfit the training data but I can select features to reduce the noise if that's the case. However, of the 2 models being required, I think the Random Forest Classifier will overall perform better because we want to, to a very high degree, accurately classify risk level of given loans, and RFC is able to iteratively improve that accuracy while logistic regression does not. Accuracy wouldn't be as important necessarily in other datasets, but a bank or business that takes financial risks needs to minimze those risks as much as possible. *"
   ]
  },
  {
   "cell_type": "markdown",
   "metadata": {},
   "source": [
    "## Split the Data into Training and Testing Sets"
   ]
  },
  {
   "cell_type": "code",
   "execution_count": 9,
   "metadata": {},
   "outputs": [],
   "source": [
    "# Drop the label to create the X data\n",
    "y = df1[\"loan_status\"]\n",
    "X = df1.drop('loan_status', axis=1)"
   ]
  },
  {
   "cell_type": "code",
   "execution_count": 10,
   "metadata": {},
   "outputs": [],
   "source": [
    "# Split the data into X_train, X_test, y_train, y_test\n",
    "from sklearn.model_selection import train_test_split\n",
    "\n",
    "X_train, X_test, y_train, y_test = train_test_split(X, y, random_state=1)\n",
    "scaler = StandardScaler().fit(X_train)\n",
    "X_train_scaled = scaler.transform(X_train)\n",
    "X_test_scaled = scaler.transform(X_test)"
   ]
  },
  {
   "cell_type": "markdown",
   "metadata": {},
   "source": [
    "## Create, Fit and Compare Models\n",
    "\n",
    "Create a Logistic Regression model, fit it to the data, and print the model's score. Do the same for a Random Forest Classifier. You may choose any starting hyperparameters you like. \n",
    "\n",
    "Which model performed better? How does that compare to your prediction? Write down your results and thoughts in the designated markdown cell."
   ]
  },
  {
   "cell_type": "code",
   "execution_count": 11,
   "metadata": {},
   "outputs": [
    {
     "data": {
      "text/plain": [
       "LogisticRegression(max_iter=10000)"
      ]
     },
     "execution_count": 11,
     "metadata": {},
     "output_type": "execute_result"
    }
   ],
   "source": [
    "# Train a Logistic Regression model and print the model score\n",
    "from sklearn.linear_model import LogisticRegression\n",
    "classifier = LogisticRegression(max_iter=10000) \n",
    "classifier"
   ]
  },
  {
   "cell_type": "code",
   "execution_count": 12,
   "metadata": {},
   "outputs": [
    {
     "data": {
      "text/plain": [
       "array([0., 1.])"
      ]
     },
     "execution_count": 12,
     "metadata": {},
     "output_type": "execute_result"
    }
   ],
   "source": [
    "y_train.unique()"
   ]
  },
  {
   "cell_type": "code",
   "execution_count": 13,
   "metadata": {},
   "outputs": [
    {
     "data": {
      "text/plain": [
       "LogisticRegression(max_iter=10000)"
      ]
     },
     "execution_count": 13,
     "metadata": {},
     "output_type": "execute_result"
    }
   ],
   "source": [
    "classifier.fit(X_train, y_train)"
   ]
  },
  {
   "cell_type": "code",
   "execution_count": 14,
   "metadata": {},
   "outputs": [
    {
     "name": "stdout",
     "output_type": "stream",
     "text": [
      "Training Data Score: 0.9921240885954051\n",
      "Testing Data Score: 0.9918489475856377\n"
     ]
    }
   ],
   "source": [
    "print(f\"Training Data Score: {classifier.score(X_train, y_train)}\")\n",
    "print(f\"Testing Data Score: {classifier.score(X_test, y_test)}\")"
   ]
  },
  {
   "cell_type": "code",
   "execution_count": 15,
   "metadata": {},
   "outputs": [],
   "source": [
    "# Train a Random Forest Classifier model and print the model score\n",
    "from sklearn.ensemble import RandomForestClassifier"
   ]
  },
  {
   "cell_type": "code",
   "execution_count": 17,
   "metadata": {},
   "outputs": [
    {
     "name": "stdout",
     "output_type": "stream",
     "text": [
      "              precision    recall  f1-score   support\n",
      "\n",
      "         0.0       1.00      0.99      1.00     18765\n",
      "         1.0       0.85      0.89      0.87       619\n",
      "\n",
      "    accuracy                           0.99     19384\n",
      "   macro avg       0.92      0.94      0.93     19384\n",
      "weighted avg       0.99      0.99      0.99     19384\n",
      "\n",
      "Training Score: 0.9975409272252029\n",
      "Testing Score: 0.9914878250103177\n"
     ]
    }
   ],
   "source": [
    "clf = RandomForestClassifier(random_state=1).fit(X_train_scaled, y_train)\n",
    "y_pred = clf.predict(X_test_scaled)\n",
    "print(classification_report(y_test, y_pred))\n",
    "print(f'Training Score: {clf.score(X_train_scaled, y_train)}')\n",
    "print(f'Testing Score: {clf.score(X_test_scaled, y_test)}')"
   ]
  },
  {
   "cell_type": "markdown",
   "metadata": {},
   "source": [
    "*Which model performed better? Surprisingly, for this dataset, the models both performed equally well and are virtually identical in their capabilities to predict risk level. The Logistic Regression training and testing scores have high fidelity, as do the training/testing scores for the Random Forest Classifier model.The former performed only a thousandth of a percentage better than the latter, which was mildly surprising. \n",
    "How does that compare to your prediction? \n",
    "I predicted the RFC model would perform more effectively, but either model would suffice in this case. I would recommend either model in this particular application."
   ]
  },
  {
   "cell_type": "code",
   "execution_count": null,
   "metadata": {},
   "outputs": [],
   "source": []
  }
 ],
 "metadata": {
  "kernelspec": {
   "display_name": "Python 3 (ipykernel)",
   "language": "python",
   "name": "python3"
  },
  "language_info": {
   "codemirror_mode": {
    "name": "ipython",
    "version": 3
   },
   "file_extension": ".py",
   "mimetype": "text/x-python",
   "name": "python",
   "nbconvert_exporter": "python",
   "pygments_lexer": "ipython3",
   "version": "3.7.7"
  }
 },
 "nbformat": 4,
 "nbformat_minor": 4
}
